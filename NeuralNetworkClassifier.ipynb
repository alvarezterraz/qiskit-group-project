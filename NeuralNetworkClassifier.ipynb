{
 "cells": [
  {
   "cell_type": "markdown",
   "id": "dd7b938b",
   "metadata": {},
   "source": [
    "# Quantum Neural Network Image Classifier\n",
    "\n",
    "The present project aims to apply quantum kernels implemented with IBM’s quantum \n",
    "computing framework, Qiskit, to classify simple image patterns. Specifically, distinguishing \n",
    "between images of circles and crosses, each represented as 8x8 pixel images.\n",
    "\n",
    "The central objective of this project is to leverage quantum kernel estimation, an innovative \n",
    "method that encodes classical data into quantum states to exploit quantum computational \n",
    "advantages, potentially enhancing classification accuracy or reducing computational \n",
    "complexity compared to classical approaches.\n",
    "\n",
    "## Data Base\n",
    "\n",
    "The initial stage involves the creation of an image dataset consisting of circles and crosses. This dataset will comprise a total of 60 images, subdivided into **40 training images** (20 circles and 20 crosses) and **20 testing images** (10 circles and 10 crosses). To construct this dataset, we developed the `symbols_maker.py` software, which facilitates the manual generation of freehand-drawn images on an 8x8 pixel grid. Subsequently, these images are automatically converted into binary vectors (`crosses.csv` and `circles.csv`), enabling their processing by the neural network. \n"
   ]
  },
  {
   "cell_type": "code",
   "execution_count": 1,
   "id": "6bdae2eb",
   "metadata": {},
   "outputs": [
    {
     "name": "stdout",
     "output_type": "stream",
     "text": [
      "Train set: 40 samples, 40 labels\n",
      "Test set:  20 samples, 20 labels\n"
     ]
    }
   ],
   "source": [
    "# Load and preprocess both CSVs\n",
    "import pandas as pd\n",
    "df_cross  = pd.read_csv('crosses.csv', header=None)\n",
    "df_circle = pd.read_csv('circles.csv', header=None)\n",
    "\n",
    "# Rename last column to 'Label' and map\n",
    "df_cross.rename(columns={df_cross.columns[-1]: 'Label'}, inplace=True)\n",
    "df_cross['Label']  = df_cross['Label'].map({1: 'Cross', 0: 'Circle'})\n",
    "df_circle.rename(columns={df_circle.columns[-1]: 'Label'}, inplace=True)\n",
    "df_circle['Label'] = df_circle['Label'].map({1: 'Cross', 0: 'Circle'})\n",
    "\n",
    "# Reorder columns so 'Label' is first (avoid in‐place slice assignment)\n",
    "cols_cross  = ['Label'] + [c for c in df_cross.columns  if c != 'Label']\n",
    "cols_circle = ['Label'] + [c for c in df_circle.columns if c != 'Label']\n",
    "df_cross  = df_cross[cols_cross]\n",
    "df_circle = df_circle[cols_circle]\n",
    "\n",
    "# Split each into first 20 rows (train) and last 10 rows (test)\n",
    "train_cross, test_cross   = df_cross.iloc[:20], df_cross.iloc[20:]\n",
    "train_circle, test_circle = df_circle.iloc[:20], df_circle.iloc[20:]\n",
    "\n",
    "# Combine train/test sets\n",
    "train_df = pd.concat([train_cross, train_circle], ignore_index=True)\n",
    "test_df  = pd.concat([test_cross,  test_circle ], ignore_index=True)\n",
    "\n",
    "# Extract features and labels\n",
    "data_train   = train_df.drop('Label', axis=1).values\n",
    "labels_train = train_df['Label'].values\n",
    "data_test    = test_df .drop('Label', axis=1).values\n",
    "labels_test  = test_df ['Label'].values\n",
    "\n",
    "print(f\"Train set: {len(data_train)} samples, {len(labels_train)} labels\")\n",
    "print(f\"Test set:  {len(data_test)} samples, {len(labels_test)} labels\")"
   ]
  },
  {
   "cell_type": "markdown",
   "id": "5d9e5d9d",
   "metadata": {},
   "source": [
    "## Dimensionality Reduction & Qubit Count\n",
    "\n",
    "The following steps aim to reduce the 8×8 image data (64 features) to a smaller set of principal components and map them to qubits for quantum kernel classification."
   ]
  },
  {
   "cell_type": "code",
   "execution_count": 9,
   "id": "511839e3",
   "metadata": {},
   "outputs": [
    {
     "name": "stdout",
     "output_type": "stream",
     "text": [
      "Selected 30 components, explaining 99.14% variance.\n"
     ]
    }
   ],
   "source": [
    "from sklearn.model_selection import train_test_split\n",
    "from sklearn.decomposition import PCA\n",
    "from sklearn.preprocessing import StandardScaler\n",
    "\n",
    "scaler = StandardScaler()\n",
    "\n",
    "# Fit the scaler on the training data\n",
    "train_scaled = scaler.fit_transform(data_train)\n",
    "test_scaled = scaler.transform(data_test)\n",
    "\n",
    "# Fit PCA to training data\n",
    "pca = PCA(n_components=0.99)\n",
    "train_pca = pca.fit_transform(train_scaled)\n",
    "test_pca = pca.transform(test_scaled)\n",
    "\n",
    "# Examine explained variance and component count\n",
    "n_components = pca.n_components_\n",
    "explained_variance = pca.explained_variance_ratio_.sum()\n",
    "print(f\"Selected {n_components} components, explaining {explained_variance:.2%} variance.\")"
   ]
  },
  {
   "cell_type": "markdown",
   "id": "cd325301",
   "metadata": {},
   "source": [
    "## Maping the qubits"
   ]
  },
  {
   "cell_type": "code",
   "execution_count": 3,
   "id": "32258e7d",
   "metadata": {},
   "outputs": [],
   "source": [
    "from qiskit.circuit.library import ZZFeatureMap, ZFeatureMap\n",
    "# Se podría usar ZFeatureMap o ZZFeatureMap, habría que analizarlo.\n",
    "feature_map = ZFeatureMap(\n",
    "    feature_dimension=n_components\n",
    ")"
   ]
  },
  {
   "cell_type": "markdown",
   "id": "8a046c20",
   "metadata": {},
   "source": [
    "## Kernel Circuit Construction\n"
   ]
  },
  {
   "cell_type": "code",
   "execution_count": 4,
   "id": "7a06f6c0",
   "metadata": {},
   "outputs": [],
   "source": [
    "import numpy as np\n",
    "from qiskit import transpile\n",
    "from qiskit_aer import AerSimulator\n",
    "#from qiskit.utils import QuantumInstance"
   ]
  },
  {
   "cell_type": "code",
   "execution_count": 5,
   "id": "00218655",
   "metadata": {},
   "outputs": [],
   "source": [
    "# Returns an [n1 x n2] kernel matrix by measuring the all-zero probability of the overlap circuit.\n",
    "def compute_kernel_matrix(X1, X2, feature_map, backend, shots=1024):\n",
    "    n1, n2 = len(X1), len(X2)\n",
    "    kernel = np.zeros((n1, n2))\n",
    "    for i, x1 in enumerate(X1):\n",
    "        for j, x2 in enumerate(X2):\n",
    "            # Build overlap circuit: U(x1) · U(x2)^{-1}\n",
    "            qc1 = feature_map.assign_parameters(x1)\n",
    "            qc2 = feature_map.assign_parameters(x2)\n",
    "            overlap = qc1.compose(qc2.inverse())\n",
    "\n",
    "            # Add measurements to capture counts\n",
    "            overlap.measure_all()\n",
    "\n",
    "            # Transpile for performance\n",
    "            transpiled = transpile(overlap, backend=backend, optimization_level=3)\n",
    "\n",
    "            # Execute and get counts\n",
    "            job = backend.run(transpiled, shots=shots)\n",
    "            result = job.result()\n",
    "            counts = result.get_counts()\n",
    "\n",
    "            # Probability of |0...0>\n",
    "            p0 = counts.get('0' * feature_map.num_qubits, 0) / shots\n",
    "            kernel[i, j] = p0\n",
    "    return kernel"
   ]
  },
  {
   "cell_type": "code",
   "execution_count": 6,
   "id": "3f53d6fa",
   "metadata": {},
   "outputs": [],
   "source": [
    "backend = AerSimulator()  # For simulation\n",
    "# For hardware: replace with your IBMProvider sampler\n",
    "\n",
    "# Compute training kernel (symmetric; could optimize by half)\n",
    "K_train = compute_kernel_matrix(train_pca, train_pca, feature_map, backend)\n",
    "\n",
    "# Compute test kernel (full)\n",
    "K_test = compute_kernel_matrix(test_pca, train_pca, feature_map, backend)"
   ]
  },
  {
   "cell_type": "code",
   "execution_count": 7,
   "id": "596f6039",
   "metadata": {},
   "outputs": [],
   "source": [
    "print(\"K_train shape:\", K_train.shape)\n",
    "print(\"K_test shape:\", K_test.shape)\n",
    "print(K_test)"
   ]
  },
  {
   "cell_type": "markdown",
   "id": "61f9ba36",
   "metadata": {},
   "source": [
    "## SVM Training & Evaluation"
   ]
  },
  {
   "cell_type": "code",
   "execution_count": 10,
   "id": "85f43bb8",
   "metadata": {},
   "outputs": [
    {
     "ename": "NameError",
     "evalue": "name 'GridSearchCV' is not defined",
     "output_type": "error",
     "traceback": [
      "\u001b[31m---------------------------------------------------------------------------\u001b[39m",
      "\u001b[31mNameError\u001b[39m                                 Traceback (most recent call last)",
      "\u001b[36mCell\u001b[39m\u001b[36m \u001b[39m\u001b[32mIn[10]\u001b[39m\u001b[32m, line 14\u001b[39m\n\u001b[32m      5\u001b[39m svc = SVC(kernel=\u001b[33m\"\u001b[39m\u001b[33mprecomputed\u001b[39m\u001b[33m\"\u001b[39m)\n\u001b[32m      7\u001b[39m param_grid = {\n\u001b[32m      8\u001b[39m     \u001b[33m'\u001b[39m\u001b[33mC\u001b[39m\u001b[33m'\u001b[39m: [\u001b[32m0.1\u001b[39m, \u001b[32m1\u001b[39m, \u001b[32m10\u001b[39m, \u001b[32m100\u001b[39m],\n\u001b[32m      9\u001b[39m     \u001b[33m'\u001b[39m\u001b[33mshrinking\u001b[39m\u001b[33m'\u001b[39m: [\u001b[38;5;28;01mTrue\u001b[39;00m, \u001b[38;5;28;01mFalse\u001b[39;00m],\n\u001b[32m     10\u001b[39m     \u001b[33m'\u001b[39m\u001b[33mtol\u001b[39m\u001b[33m'\u001b[39m: [\u001b[32m1e-2\u001b[39m, \u001b[32m1e-3\u001b[39m, \u001b[32m1e-4\u001b[39m],\n\u001b[32m     11\u001b[39m     \u001b[33m'\u001b[39m\u001b[33mclass_weight\u001b[39m\u001b[33m'\u001b[39m: [\u001b[38;5;28;01mNone\u001b[39;00m, \u001b[33m'\u001b[39m\u001b[33mbalanced\u001b[39m\u001b[33m'\u001b[39m]\n\u001b[32m     12\u001b[39m }\n\u001b[32m---> \u001b[39m\u001b[32m14\u001b[39m grid = \u001b[43mGridSearchCV\u001b[49m(svc, param_grid, cv=\u001b[32m5\u001b[39m, scoring=\u001b[33m'\u001b[39m\u001b[33maccuracy\u001b[39m\u001b[33m'\u001b[39m, verbose=\u001b[32m2\u001b[39m)\n\u001b[32m     15\u001b[39m grid.fit(K_train, labels_train)\n\u001b[32m     17\u001b[39m \u001b[38;5;28mprint\u001b[39m(\u001b[33m\"\u001b[39m\u001b[33mMejores params:\u001b[39m\u001b[33m\"\u001b[39m, grid.best_params_)\n",
      "\u001b[31mNameError\u001b[39m: name 'GridSearchCV' is not defined"
     ]
    }
   ],
   "source": [
    "from sklearn.svm import SVC\n",
    "from sklearn.metrics import accuracy_score, confusion_matrix, classification_report\n",
    "\n",
    "# 6.1 Train the SVM using the precomputed training kernel\n",
    "svc = SVC(kernel=\"precomputed\")\n",
    "\n",
    "param_grid = {\n",
    "    'C': [0.1, 1, 10, 100],\n",
    "    'shrinking': [True, False],\n",
    "    'tol': [1e-2, 1e-3, 1e-4],\n",
    "    'class_weight': [None, 'balanced']\n",
    "}\n",
    "\n",
    "grid = GridSearchCV(svc, param_grid, cv=5, scoring='accuracy', verbose=2)\n",
    "grid.fit(K_train, labels_train)\n",
    "\n",
    "print(\"Mejores params:\", grid.best_params_)\n",
    "print(\"Mejor score CV:\", grid.best_score_)\n",
    "\n",
    "# 6.2 Predict on the test kernel\n",
    "labels_pred = svc.predict(K_test)\n",
    "\n",
    "# 6.3 Evaluation metrics\n",
    "accuracy = accuracy_score(labels_test, labels_pred)\n",
    "conf_mat = confusion_matrix(labels_test, labels_pred)\n",
    "report = classification_report(labels_test, labels_pred) \n",
    "\n",
    "print(f\"Test Accuracy: {accuracy:.2%}\")\n",
    "print(\"Confusion Matrix:\")\n",
    "print(conf_mat)\n",
    "print(\"Classification Report:\")\n",
    "print(report)"
   ]
  },
  {
   "cell_type": "markdown",
   "id": "654db0dd",
   "metadata": {},
   "source": [
    "## Visualization"
   ]
  },
  {
   "cell_type": "code",
   "execution_count": null,
   "id": "bd13554c",
   "metadata": {},
   "outputs": [
    {
     "data": {
      "image/png": "[encoded data removed]",
      "text/plain": [
       "<Figure size 640x480 with 2 Axes>"
      ]
     },
     "metadata": {},
     "output_type": "display_data"
    },
    {
     "ename": "ValueError",
     "evalue": "y_true takes value in {'Circle', 'Cross'} and pos_label is not specified: either make y_true take value in {0, 1} or {-1, 1} or pass pos_label explicitly.",
     "output_type": "error",
     "traceback": [
      "\u001b[31m---------------------------------------------------------------------------\u001b[39m",
      "\u001b[31mValueError\u001b[39m                                Traceback (most recent call last)",
      "\u001b[36mCell\u001b[39m\u001b[36m \u001b[39m\u001b[32mIn[64]\u001b[39m\u001b[32m, line 20\u001b[39m\n\u001b[32m     18\u001b[39m \u001b[38;5;66;03m# Compute ROC curve\u001b[39;00m\n\u001b[32m     19\u001b[39m labels_scores = svc.decision_function(K_test)\n\u001b[32m---> \u001b[39m\u001b[32m20\u001b[39m fpr, tpr, _ = \u001b[43mroc_curve\u001b[49m\u001b[43m(\u001b[49m\u001b[43mlabels_test\u001b[49m\u001b[43m,\u001b[49m\u001b[43m \u001b[49m\u001b[43mlabels_scores\u001b[49m\u001b[43m)\u001b[49m\n\u001b[32m     21\u001b[39m roc_auc = auc(fpr, tpr)\n\u001b[32m     23\u001b[39m \u001b[38;5;66;03m# Plot ROC curve\u001b[39;00m\n",
      "\u001b[36mFile \u001b[39m\u001b[32mc:\\Users\\artur\\Documents\\Qiskit R2P\\.venv\\Lib\\site-packages\\sklearn\\utils\\_param_validation.py:216\u001b[39m, in \u001b[36mvalidate_params.<locals>.decorator.<locals>.wrapper\u001b[39m\u001b[34m(*args, **kwargs)\u001b[39m\n\u001b[32m    210\u001b[39m \u001b[38;5;28;01mtry\u001b[39;00m:\n\u001b[32m    211\u001b[39m     \u001b[38;5;28;01mwith\u001b[39;00m config_context(\n\u001b[32m    212\u001b[39m         skip_parameter_validation=(\n\u001b[32m    213\u001b[39m             prefer_skip_nested_validation \u001b[38;5;129;01mor\u001b[39;00m global_skip_validation\n\u001b[32m    214\u001b[39m         )\n\u001b[32m    215\u001b[39m     ):\n\u001b[32m--> \u001b[39m\u001b[32m216\u001b[39m         \u001b[38;5;28;01mreturn\u001b[39;00m \u001b[43mfunc\u001b[49m\u001b[43m(\u001b[49m\u001b[43m*\u001b[49m\u001b[43margs\u001b[49m\u001b[43m,\u001b[49m\u001b[43m \u001b[49m\u001b[43m*\u001b[49m\u001b[43m*\u001b[49m\u001b[43mkwargs\u001b[49m\u001b[43m)\u001b[49m\n\u001b[32m    217\u001b[39m \u001b[38;5;28;01mexcept\u001b[39;00m InvalidParameterError \u001b[38;5;28;01mas\u001b[39;00m e:\n\u001b[32m    218\u001b[39m     \u001b[38;5;66;03m# When the function is just a wrapper around an estimator, we allow\u001b[39;00m\n\u001b[32m    219\u001b[39m     \u001b[38;5;66;03m# the function to delegate validation to the estimator, but we replace\u001b[39;00m\n\u001b[32m    220\u001b[39m     \u001b[38;5;66;03m# the name of the estimator by the name of the function in the error\u001b[39;00m\n\u001b[32m    221\u001b[39m     \u001b[38;5;66;03m# message to avoid confusion.\u001b[39;00m\n\u001b[32m    222\u001b[39m     msg = re.sub(\n\u001b[32m    223\u001b[39m         \u001b[33mr\u001b[39m\u001b[33m\"\u001b[39m\u001b[33mparameter of \u001b[39m\u001b[33m\\\u001b[39m\u001b[33mw+ must be\u001b[39m\u001b[33m\"\u001b[39m,\n\u001b[32m    224\u001b[39m         \u001b[33mf\u001b[39m\u001b[33m\"\u001b[39m\u001b[33mparameter of \u001b[39m\u001b[38;5;132;01m{\u001b[39;00mfunc.\u001b[34m__qualname__\u001b[39m\u001b[38;5;132;01m}\u001b[39;00m\u001b[33m must be\u001b[39m\u001b[33m\"\u001b[39m,\n\u001b[32m    225\u001b[39m         \u001b[38;5;28mstr\u001b[39m(e),\n\u001b[32m    226\u001b[39m     )\n",
      "\u001b[36mFile \u001b[39m\u001b[32mc:\\Users\\artur\\Documents\\Qiskit R2P\\.venv\\Lib\\site-packages\\sklearn\\metrics\\_ranking.py:1150\u001b[39m, in \u001b[36mroc_curve\u001b[39m\u001b[34m(y_true, y_score, pos_label, sample_weight, drop_intermediate)\u001b[39m\n\u001b[32m   1046\u001b[39m \u001b[38;5;129m@validate_params\u001b[39m(\n\u001b[32m   1047\u001b[39m     {\n\u001b[32m   1048\u001b[39m         \u001b[33m\"\u001b[39m\u001b[33my_true\u001b[39m\u001b[33m\"\u001b[39m: [\u001b[33m\"\u001b[39m\u001b[33marray-like\u001b[39m\u001b[33m\"\u001b[39m],\n\u001b[32m   (...)\u001b[39m\u001b[32m   1057\u001b[39m     y_true, y_score, *, pos_label=\u001b[38;5;28;01mNone\u001b[39;00m, sample_weight=\u001b[38;5;28;01mNone\u001b[39;00m, drop_intermediate=\u001b[38;5;28;01mTrue\u001b[39;00m\n\u001b[32m   1058\u001b[39m ):\n\u001b[32m   1059\u001b[39m \u001b[38;5;250m    \u001b[39m\u001b[33;03m\"\"\"Compute Receiver operating characteristic (ROC).\u001b[39;00m\n\u001b[32m   1060\u001b[39m \n\u001b[32m   1061\u001b[39m \u001b[33;03m    Note: this implementation is restricted to the binary classification task.\u001b[39;00m\n\u001b[32m   (...)\u001b[39m\u001b[32m   1148\u001b[39m \u001b[33;03m    array([ inf, 0.8 , 0.4 , 0.35, 0.1 ])\u001b[39;00m\n\u001b[32m   1149\u001b[39m \u001b[33;03m    \"\"\"\u001b[39;00m\n\u001b[32m-> \u001b[39m\u001b[32m1150\u001b[39m     fps, tps, thresholds = \u001b[43m_binary_clf_curve\u001b[49m\u001b[43m(\u001b[49m\n\u001b[32m   1151\u001b[39m \u001b[43m        \u001b[49m\u001b[43my_true\u001b[49m\u001b[43m,\u001b[49m\u001b[43m \u001b[49m\u001b[43my_score\u001b[49m\u001b[43m,\u001b[49m\u001b[43m \u001b[49m\u001b[43mpos_label\u001b[49m\u001b[43m=\u001b[49m\u001b[43mpos_label\u001b[49m\u001b[43m,\u001b[49m\u001b[43m \u001b[49m\u001b[43msample_weight\u001b[49m\u001b[43m=\u001b[49m\u001b[43msample_weight\u001b[49m\n\u001b[32m   1152\u001b[39m \u001b[43m    \u001b[49m\u001b[43m)\u001b[49m\n\u001b[32m   1154\u001b[39m     \u001b[38;5;66;03m# Attempt to drop thresholds corresponding to points in between and\u001b[39;00m\n\u001b[32m   1155\u001b[39m     \u001b[38;5;66;03m# collinear with other points. These are always suboptimal and do not\u001b[39;00m\n\u001b[32m   1156\u001b[39m     \u001b[38;5;66;03m# appear on a plotted ROC curve (and thus do not affect the AUC).\u001b[39;00m\n\u001b[32m   (...)\u001b[39m\u001b[32m   1161\u001b[39m     \u001b[38;5;66;03m# but does not drop more complicated cases like fps = [1, 3, 7],\u001b[39;00m\n\u001b[32m   1162\u001b[39m     \u001b[38;5;66;03m# tps = [1, 2, 4]; there is no harm in keeping too many thresholds.\u001b[39;00m\n\u001b[32m   1163\u001b[39m     \u001b[38;5;28;01mif\u001b[39;00m drop_intermediate \u001b[38;5;129;01mand\u001b[39;00m \u001b[38;5;28mlen\u001b[39m(fps) > \u001b[32m2\u001b[39m:\n",
      "\u001b[36mFile \u001b[39m\u001b[32mc:\\Users\\artur\\Documents\\Qiskit R2P\\.venv\\Lib\\site-packages\\sklearn\\metrics\\_ranking.py:835\u001b[39m, in \u001b[36m_binary_clf_curve\u001b[39m\u001b[34m(y_true, y_score, pos_label, sample_weight)\u001b[39m\n\u001b[32m    832\u001b[39m     y_score = y_score[nonzero_weight_mask]\n\u001b[32m    833\u001b[39m     sample_weight = sample_weight[nonzero_weight_mask]\n\u001b[32m--> \u001b[39m\u001b[32m835\u001b[39m pos_label = \u001b[43m_check_pos_label_consistency\u001b[49m\u001b[43m(\u001b[49m\u001b[43mpos_label\u001b[49m\u001b[43m,\u001b[49m\u001b[43m \u001b[49m\u001b[43my_true\u001b[49m\u001b[43m)\u001b[49m\n\u001b[32m    837\u001b[39m \u001b[38;5;66;03m# make y_true a boolean vector\u001b[39;00m\n\u001b[32m    838\u001b[39m y_true = y_true == pos_label\n",
      "\u001b[36mFile \u001b[39m\u001b[32mc:\\Users\\artur\\Documents\\Qiskit R2P\\.venv\\Lib\\site-packages\\sklearn\\utils\\validation.py:2641\u001b[39m, in \u001b[36m_check_pos_label_consistency\u001b[39m\u001b[34m(pos_label, y_true)\u001b[39m\n\u001b[32m   2633\u001b[39m     \u001b[38;5;28;01mif\u001b[39;00m classes.dtype.kind \u001b[38;5;129;01min\u001b[39;00m \u001b[33m\"\u001b[39m\u001b[33mOUS\u001b[39m\u001b[33m\"\u001b[39m \u001b[38;5;129;01mor\u001b[39;00m \u001b[38;5;129;01mnot\u001b[39;00m (\n\u001b[32m   2634\u001b[39m         np.array_equal(classes, [\u001b[32m0\u001b[39m, \u001b[32m1\u001b[39m])\n\u001b[32m   2635\u001b[39m         \u001b[38;5;129;01mor\u001b[39;00m np.array_equal(classes, [-\u001b[32m1\u001b[39m, \u001b[32m1\u001b[39m])\n\u001b[32m   (...)\u001b[39m\u001b[32m   2638\u001b[39m         \u001b[38;5;129;01mor\u001b[39;00m np.array_equal(classes, [\u001b[32m1\u001b[39m])\n\u001b[32m   2639\u001b[39m     ):\n\u001b[32m   2640\u001b[39m         classes_repr = \u001b[33m\"\u001b[39m\u001b[33m, \u001b[39m\u001b[33m\"\u001b[39m.join([\u001b[38;5;28mrepr\u001b[39m(c) \u001b[38;5;28;01mfor\u001b[39;00m c \u001b[38;5;129;01min\u001b[39;00m classes.tolist()])\n\u001b[32m-> \u001b[39m\u001b[32m2641\u001b[39m         \u001b[38;5;28;01mraise\u001b[39;00m \u001b[38;5;167;01mValueError\u001b[39;00m(\n\u001b[32m   2642\u001b[39m             \u001b[33mf\u001b[39m\u001b[33m\"\u001b[39m\u001b[33my_true takes value in \u001b[39m\u001b[38;5;130;01m{{\u001b[39;00m\u001b[38;5;132;01m{\u001b[39;00mclasses_repr\u001b[38;5;132;01m}\u001b[39;00m\u001b[38;5;130;01m}}\u001b[39;00m\u001b[33m and pos_label is not \u001b[39m\u001b[33m\"\u001b[39m\n\u001b[32m   2643\u001b[39m             \u001b[33m\"\u001b[39m\u001b[33mspecified: either make y_true take value in \u001b[39m\u001b[33m{\u001b[39m\u001b[33m0, 1} or \u001b[39m\u001b[33m\"\u001b[39m\n\u001b[32m   2644\u001b[39m             \u001b[33m\"\u001b[39m\u001b[33m{\u001b[39m\u001b[33m-1, 1} or pass pos_label explicitly.\u001b[39m\u001b[33m\"\u001b[39m\n\u001b[32m   2645\u001b[39m         )\n\u001b[32m   2646\u001b[39m     pos_label = \u001b[32m1\u001b[39m\n\u001b[32m   2648\u001b[39m \u001b[38;5;28;01mreturn\u001b[39;00m pos_label\n",
      "\u001b[31mValueError\u001b[39m: y_true takes value in {'Circle', 'Cross'} and pos_label is not specified: either make y_true take value in {0, 1} or {-1, 1} or pass pos_label explicitly."
     ]
    }
   ],
   "source": [
    "import matplotlib.pyplot as plt\n",
    "from sklearn.metrics import confusion_matrix, roc_curve, auc\n",
    "\n",
    "# Compute confusion matrix\n",
    "conf_mat = confusion_matrix(labels_test, labels_pred)\n",
    "\n",
    "# Plot confusion matrix\n",
    "plt.figure()\n",
    "plt.imshow(conf_mat)\n",
    "plt.title('Confusion Matrix')\n",
    "plt.xlabel('Predicted Label')\n",
    "plt.ylabel('True Label')\n",
    "plt.xticks([0, 1], ['Circles', 'Crosses'])\n",
    "plt.yticks([0, 1], ['Circles', 'Crosses'])\n",
    "plt.colorbar()\n",
    "plt.show()\n",
    "\n",
    "# Compute ROC curve\n",
    "labels_scores = svc.decision_function(K_test)\n",
    "fpr, tpr, _ = roc_curve(labels_test, labels_scores)\n",
    "roc_auc = auc(fpr, tpr)\n",
    "\n",
    "# Plot ROC curve\n",
    "plt.figure()\n",
    "plt.plot(fpr, tpr)\n",
    "plt.plot([0, 1], [0, 1], linestyle='--')  # chance line\n",
    "plt.title(f'ROC Curve (AUC = {roc_auc:.2f})')\n",
    "plt.xlabel('False Positive Rate')\n",
    "plt.ylabel('True Positive Rate')\n",
    "plt.show()"
   ]
  }
 ],
 "metadata": {
  "kernelspec": {
   "display_name": ".venv",
   "language": "python",
   "name": "python3"
  },
  "language_info": {
   "codemirror_mode": {
    "name": "ipython",
    "version": 3
   },
   "file_extension": ".py",
   "mimetype": "text/x-python",
   "name": "python",
   "nbconvert_exporter": "python",
   "pygments_lexer": "ipython3",
   "version": "3.13.2"
  }
 },
 "nbformat": 4,
 "nbformat_minor": 5
}
