{
 "cells": [
  {
   "cell_type": "markdown",
   "id": "dd7b938b",
   "metadata": {},
   "source": [
    "# Quantum Neural Network Image Classifier\n",
    "\n",
    "The present project aims to apply quantum kernels implemented with IBM’s quantum \n",
    "computing framework, Qiskit, to classify simple image patterns. Specifically, distinguishing \n",
    "between images of circles and crosses, each represented as 8x8 pixel images.\n",
    "\n",
    "The central objective of this project is to leverage quantum kernel estimation, an innovative \n",
    "method that encodes classical data into quantum states to exploit quantum computational \n",
    "advantages, potentially enhancing classification accuracy or reducing computational \n",
    "complexity compared to classical approaches.\n",
    "\n",
    "## Data Base\n",
    "\n",
    "The initial stage involves the creation of an image dataset consisting of circles and crosses. This dataset will comprise a total of 60 images, subdivided into 40 training images (20 circles and 20 crosses) and 20 testing images (10 circles and 10 crosses). To construct this dataset, we developed the `grid_maker.py` software, which facilitates the manual generation of freehand-drawn images on an 8x8 pixel grid. Subsequently, these images are automatically converted into binary vectors (`symbols.csv`), enabling their processing by the neural network.\n"
   ]
  }
 ],
 "metadata": {
  "language_info": {
   "name": "python"
  }
 },
 "nbformat": 4,
 "nbformat_minor": 5
}
