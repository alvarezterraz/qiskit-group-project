{
 "cells": [
  {
   "cell_type": "markdown",
   "id": "e2b94845",
   "metadata": {},
   "source": [
    "## Extracción y visualización de datos de grids.csv\n",
    "\n",
    "A continuación extraemos los datos del archivo grids.csv y los visualizamos en formato tabular. \n",
    "\n",
    "Cada fila representa una imagen. "
   ]
  },
  {
   "cell_type": "code",
   "execution_count": 2,
   "id": "32edda8a",
   "metadata": {},
   "outputs": [
    {
     "name": "stdout",
     "output_type": "stream",
     "text": [
      "Forma del dataframe: (4, 64)\n",
      "\n",
      "Primeras 5 filas del archivo grids.csv:\n"
     ]
    },
    {
     "data": {
      "application/vnd.microsoft.datawrangler.viewer.v0+json": {
       "columns": [
        {
         "name": "index",
         "rawType": "int64",
         "type": "integer"
        },
        {
         "name": "0",
         "rawType": "int64",
         "type": "integer"
        },
        {
         "name": "1",
         "rawType": "int64",
         "type": "integer"
        },
        {
         "name": "2",
         "rawType": "int64",
         "type": "integer"
        },
        {
         "name": "3",
         "rawType": "int64",
         "type": "integer"
        },
        {
         "name": "4",
         "rawType": "int64",
         "type": "integer"
        },
        {
         "name": "5",
         "rawType": "int64",
         "type": "integer"
        },
        {
         "name": "6",
         "rawType": "int64",
         "type": "integer"
        },
        {
         "name": "7",
         "rawType": "int64",
         "type": "integer"
        },
        {
         "name": "8",
         "rawType": "int64",
         "type": "integer"
        },
        {
         "name": "9",
         "rawType": "int64",
         "type": "integer"
        },
        {
         "name": "10",
         "rawType": "int64",
         "type": "integer"
        },
        {
         "name": "11",
         "rawType": "int64",
         "type": "integer"
        },
        {
         "name": "12",
         "rawType": "int64",
         "type": "integer"
        },
        {
         "name": "13",
         "rawType": "int64",
         "type": "integer"
        },
        {
         "name": "14",
         "rawType": "int64",
         "type": "integer"
        },
        {
         "name": "15",
         "rawType": "int64",
         "type": "integer"
        },
        {
         "name": "16",
         "rawType": "int64",
         "type": "integer"
        },
        {
         "name": "17",
         "rawType": "int64",
         "type": "integer"
        },
        {
         "name": "18",
         "rawType": "int64",
         "type": "integer"
        },
        {
         "name": "19",
         "rawType": "int64",
         "type": "integer"
        },
        {
         "name": "20",
         "rawType": "int64",
         "type": "integer"
        },
        {
         "name": "21",
         "rawType": "int64",
         "type": "integer"
        },
        {
         "name": "22",
         "rawType": "int64",
         "type": "integer"
        },
        {
         "name": "23",
         "rawType": "int64",
         "type": "integer"
        },
        {
         "name": "24",
         "rawType": "int64",
         "type": "integer"
        },
        {
         "name": "25",
         "rawType": "int64",
         "type": "integer"
        },
        {
         "name": "26",
         "rawType": "int64",
         "type": "integer"
        },
        {
         "name": "27",
         "rawType": "int64",
         "type": "integer"
        },
        {
         "name": "28",
         "rawType": "int64",
         "type": "integer"
        },
        {
         "name": "29",
         "rawType": "int64",
         "type": "integer"
        },
        {
         "name": "30",
         "rawType": "int64",
         "type": "integer"
        },
        {
         "name": "31",
         "rawType": "int64",
         "type": "integer"
        },
        {
         "name": "32",
         "rawType": "int64",
         "type": "integer"
        },
        {
         "name": "33",
         "rawType": "int64",
         "type": "integer"
        },
        {
         "name": "34",
         "rawType": "int64",
         "type": "integer"
        },
        {
         "name": "35",
         "rawType": "int64",
         "type": "integer"
        },
        {
         "name": "36",
         "rawType": "int64",
         "type": "integer"
        },
        {
         "name": "37",
         "rawType": "int64",
         "type": "integer"
        },
        {
         "name": "38",
         "rawType": "int64",
         "type": "integer"
        },
        {
         "name": "39",
         "rawType": "int64",
         "type": "integer"
        },
        {
         "name": "40",
         "rawType": "int64",
         "type": "integer"
        },
        {
         "name": "41",
         "rawType": "int64",
         "type": "integer"
        },
        {
         "name": "42",
         "rawType": "int64",
         "type": "integer"
        },
        {
         "name": "43",
         "rawType": "int64",
         "type": "integer"
        },
        {
         "name": "44",
         "rawType": "int64",
         "type": "integer"
        },
        {
         "name": "45",
         "rawType": "int64",
         "type": "integer"
        },
        {
         "name": "46",
         "rawType": "int64",
         "type": "integer"
        },
        {
         "name": "47",
         "rawType": "int64",
         "type": "integer"
        },
        {
         "name": "48",
         "rawType": "int64",
         "type": "integer"
        },
        {
         "name": "49",
         "rawType": "int64",
         "type": "integer"
        },
        {
         "name": "50",
         "rawType": "int64",
         "type": "integer"
        },
        {
         "name": "51",
         "rawType": "int64",
         "type": "integer"
        },
        {
         "name": "52",
         "rawType": "int64",
         "type": "integer"
        },
        {
         "name": "53",
         "rawType": "int64",
         "type": "integer"
        },
        {
         "name": "54",
         "rawType": "int64",
         "type": "integer"
        },
        {
         "name": "55",
         "rawType": "int64",
         "type": "integer"
        },
        {
         "name": "56",
         "rawType": "int64",
         "type": "integer"
        },
        {
         "name": "57",
         "rawType": "int64",
         "type": "integer"
        },
        {
         "name": "58",
         "rawType": "int64",
         "type": "integer"
        },
        {
         "name": "59",
         "rawType": "int64",
         "type": "integer"
        },
        {
         "name": "60",
         "rawType": "int64",
         "type": "integer"
        },
        {
         "name": "61",
         "rawType": "int64",
         "type": "integer"
        },
        {
         "name": "62",
         "rawType": "int64",
         "type": "integer"
        },
        {
         "name": "63",
         "rawType": "int64",
         "type": "integer"
        }
       ],
       "conversionMethod": "pd.DataFrame",
       "ref": "229fc4b8-c70b-454c-9069-d586acde8d13",
       "rows": [
        [
         "0",
         "1",
         "1",
         "1",
         "1",
         "1",
         "0",
         "0",
         "0",
         "0",
         "0",
         "0",
         "0",
         "0",
         "0",
         "0",
         "0",
         "0",
         "0",
         "0",
         "0",
         "0",
         "0",
         "0",
         "0",
         "0",
         "0",
         "0",
         "0",
         "0",
         "0",
         "0",
         "0",
         "0",
         "0",
         "0",
         "0",
         "0",
         "0",
         "0",
         "0",
         "0",
         "0",
         "0",
         "0",
         "0",
         "0",
         "0",
         "0",
         "0",
         "0",
         "0",
         "0",
         "0",
         "0",
         "0",
         "0",
         "0",
         "0",
         "0",
         "0",
         "0",
         "0",
         "0",
         "0"
        ],
        [
         "1",
         "1",
         "1",
         "1",
         "1",
         "1",
         "1",
         "0",
         "0",
         "0",
         "0",
         "0",
         "0",
         "0",
         "0",
         "0",
         "0",
         "0",
         "0",
         "0",
         "0",
         "0",
         "0",
         "0",
         "0",
         "0",
         "0",
         "0",
         "0",
         "0",
         "0",
         "0",
         "0",
         "0",
         "0",
         "0",
         "0",
         "0",
         "0",
         "0",
         "0",
         "0",
         "0",
         "0",
         "0",
         "0",
         "0",
         "0",
         "0",
         "0",
         "0",
         "0",
         "0",
         "0",
         "0",
         "0",
         "0",
         "0",
         "0",
         "0",
         "0",
         "0",
         "0",
         "0",
         "0"
        ],
        [
         "2",
         "1",
         "1",
         "1",
         "1",
         "1",
         "1",
         "1",
         "0",
         "0",
         "0",
         "0",
         "0",
         "0",
         "0",
         "0",
         "0",
         "0",
         "0",
         "0",
         "0",
         "0",
         "0",
         "0",
         "0",
         "0",
         "0",
         "0",
         "0",
         "0",
         "0",
         "0",
         "0",
         "0",
         "0",
         "0",
         "0",
         "0",
         "0",
         "0",
         "0",
         "0",
         "0",
         "0",
         "0",
         "0",
         "0",
         "0",
         "0",
         "0",
         "0",
         "0",
         "0",
         "0",
         "0",
         "0",
         "0",
         "0",
         "0",
         "0",
         "0",
         "0",
         "0",
         "0",
         "0"
        ],
        [
         "3",
         "1",
         "1",
         "1",
         "1",
         "1",
         "1",
         "1",
         "1",
         "0",
         "0",
         "0",
         "0",
         "0",
         "0",
         "0",
         "0",
         "0",
         "0",
         "0",
         "0",
         "0",
         "0",
         "0",
         "0",
         "0",
         "0",
         "0",
         "0",
         "0",
         "0",
         "0",
         "0",
         "0",
         "0",
         "0",
         "0",
         "0",
         "0",
         "0",
         "0",
         "0",
         "0",
         "0",
         "0",
         "0",
         "0",
         "0",
         "0",
         "0",
         "0",
         "0",
         "0",
         "0",
         "0",
         "0",
         "0",
         "0",
         "0",
         "0",
         "0",
         "0",
         "0",
         "0",
         "0"
        ]
       ],
       "shape": {
        "columns": 64,
        "rows": 4
       }
      },
      "text/html": [
       "<div>\n",
       "<style scoped>\n",
       "    .dataframe tbody tr th:only-of-type {\n",
       "        vertical-align: middle;\n",
       "    }\n",
       "\n",
       "    .dataframe tbody tr th {\n",
       "        vertical-align: top;\n",
       "    }\n",
       "\n",
       "    .dataframe thead th {\n",
       "        text-align: right;\n",
       "    }\n",
       "</style>\n",
       "<table border=\"1\" class=\"dataframe\">\n",
       "  <thead>\n",
       "    <tr style=\"text-align: right;\">\n",
       "      <th></th>\n",
       "      <th>0</th>\n",
       "      <th>1</th>\n",
       "      <th>2</th>\n",
       "      <th>3</th>\n",
       "      <th>4</th>\n",
       "      <th>5</th>\n",
       "      <th>6</th>\n",
       "      <th>7</th>\n",
       "      <th>8</th>\n",
       "      <th>9</th>\n",
       "      <th>...</th>\n",
       "      <th>54</th>\n",
       "      <th>55</th>\n",
       "      <th>56</th>\n",
       "      <th>57</th>\n",
       "      <th>58</th>\n",
       "      <th>59</th>\n",
       "      <th>60</th>\n",
       "      <th>61</th>\n",
       "      <th>62</th>\n",
       "      <th>63</th>\n",
       "    </tr>\n",
       "  </thead>\n",
       "  <tbody>\n",
       "    <tr>\n",
       "      <th>0</th>\n",
       "      <td>1</td>\n",
       "      <td>1</td>\n",
       "      <td>1</td>\n",
       "      <td>1</td>\n",
       "      <td>1</td>\n",
       "      <td>0</td>\n",
       "      <td>0</td>\n",
       "      <td>0</td>\n",
       "      <td>0</td>\n",
       "      <td>0</td>\n",
       "      <td>...</td>\n",
       "      <td>0</td>\n",
       "      <td>0</td>\n",
       "      <td>0</td>\n",
       "      <td>0</td>\n",
       "      <td>0</td>\n",
       "      <td>0</td>\n",
       "      <td>0</td>\n",
       "      <td>0</td>\n",
       "      <td>0</td>\n",
       "      <td>0</td>\n",
       "    </tr>\n",
       "    <tr>\n",
       "      <th>1</th>\n",
       "      <td>1</td>\n",
       "      <td>1</td>\n",
       "      <td>1</td>\n",
       "      <td>1</td>\n",
       "      <td>1</td>\n",
       "      <td>1</td>\n",
       "      <td>0</td>\n",
       "      <td>0</td>\n",
       "      <td>0</td>\n",
       "      <td>0</td>\n",
       "      <td>...</td>\n",
       "      <td>0</td>\n",
       "      <td>0</td>\n",
       "      <td>0</td>\n",
       "      <td>0</td>\n",
       "      <td>0</td>\n",
       "      <td>0</td>\n",
       "      <td>0</td>\n",
       "      <td>0</td>\n",
       "      <td>0</td>\n",
       "      <td>0</td>\n",
       "    </tr>\n",
       "    <tr>\n",
       "      <th>2</th>\n",
       "      <td>1</td>\n",
       "      <td>1</td>\n",
       "      <td>1</td>\n",
       "      <td>1</td>\n",
       "      <td>1</td>\n",
       "      <td>1</td>\n",
       "      <td>1</td>\n",
       "      <td>0</td>\n",
       "      <td>0</td>\n",
       "      <td>0</td>\n",
       "      <td>...</td>\n",
       "      <td>0</td>\n",
       "      <td>0</td>\n",
       "      <td>0</td>\n",
       "      <td>0</td>\n",
       "      <td>0</td>\n",
       "      <td>0</td>\n",
       "      <td>0</td>\n",
       "      <td>0</td>\n",
       "      <td>0</td>\n",
       "      <td>0</td>\n",
       "    </tr>\n",
       "    <tr>\n",
       "      <th>3</th>\n",
       "      <td>1</td>\n",
       "      <td>1</td>\n",
       "      <td>1</td>\n",
       "      <td>1</td>\n",
       "      <td>1</td>\n",
       "      <td>1</td>\n",
       "      <td>1</td>\n",
       "      <td>1</td>\n",
       "      <td>0</td>\n",
       "      <td>0</td>\n",
       "      <td>...</td>\n",
       "      <td>0</td>\n",
       "      <td>0</td>\n",
       "      <td>0</td>\n",
       "      <td>0</td>\n",
       "      <td>0</td>\n",
       "      <td>0</td>\n",
       "      <td>0</td>\n",
       "      <td>0</td>\n",
       "      <td>0</td>\n",
       "      <td>0</td>\n",
       "    </tr>\n",
       "  </tbody>\n",
       "</table>\n",
       "<p>4 rows × 64 columns</p>\n",
       "</div>"
      ],
      "text/plain": [
       "   0   1   2   3   4   5   6   7   8   9   ...  54  55  56  57  58  59  60  \\\n",
       "0   1   1   1   1   1   0   0   0   0   0  ...   0   0   0   0   0   0   0   \n",
       "1   1   1   1   1   1   1   0   0   0   0  ...   0   0   0   0   0   0   0   \n",
       "2   1   1   1   1   1   1   1   0   0   0  ...   0   0   0   0   0   0   0   \n",
       "3   1   1   1   1   1   1   1   1   0   0  ...   0   0   0   0   0   0   0   \n",
       "\n",
       "   61  62  63  \n",
       "0   0   0   0  \n",
       "1   0   0   0  \n",
       "2   0   0   0  \n",
       "3   0   0   0  \n",
       "\n",
       "[4 rows x 64 columns]"
      ]
     },
     "execution_count": 2,
     "metadata": {},
     "output_type": "execute_result"
    }
   ],
   "source": [
    "import pandas as pd\n",
    "import numpy as np\n",
    "import matplotlib.pyplot as plt\n",
    "\n",
    "# Cargar el archivo CSV\n",
    "df = pd.read_csv('grids.csv', header=None)\n",
    "\n",
    "# Mostrar las primeras filas para visualizar la estructura\n",
    "print(f\"Forma del dataframe: {df.shape}\")\n",
    "print(\"\\nPrimeras 5 filas del archivo grids.csv:\")\n",
    "df.head()"
   ]
  },
  {
   "cell_type": "code",
   "execution_count": null,
   "id": "68712894",
   "metadata": {},
   "outputs": [],
   "source": [
    "# Realizar un análisis básico de los datos\n",
    "print(f\"Número total de filas (grids): {len(df)}\")\n",
    "print(f\"Número total de columnas: {len(df.columns)}\")\n",
    "print(f\"Valores únicos en el dataset: {sorted(df.values.flatten().tolist()[:5])}...\")\n",
    "\n",
    "# Estadísticas básicas\n",
    "df.describe()"
   ]
  },
  {
   "cell_type": "code",
   "execution_count": 14,
   "id": "995eedaf",
   "metadata": {},
   "outputs": [
    {
     "data": {
      "image/png": "[encoded data removed]",
      "text/plain": [
       "<Figure size 1000x800 with 1 Axes>"
      ]
     },
     "metadata": {},
     "output_type": "display_data"
    }
   ],
   "source": [
    "# Visualización del grid como una malla de 8x8\n",
    "def visualize_grid_8x8(grid_index):\n",
    "    # Obtener los valores de la fila seleccionada\n",
    "    grid_values = df.iloc[grid_index].values\n",
    "    \n",
    "    # Convertir la fila en una matriz de 8x8\n",
    "    # Aseguramos que haya 64 valores (si hay menos, rellenamos con ceros)\n",
    "    if len(grid_values) < 64:\n",
    "        grid_values = np.pad(grid_values, (0, 64 - len(grid_values)), 'constant')\n",
    "    # Si hay más de 64 valores, usamos solo los primeros 64\n",
    "    elif len(grid_values) > 64:\n",
    "        grid_values = grid_values[:64]\n",
    "    \n",
    "    # Reshape a 8x8\n",
    "    grid_8x8 = grid_values.reshape(8, 8)\n",
    "    \n",
    "    # Crear la visualización\n",
    "    fig, ax = plt.subplots(figsize=(10, 8))\n",
    "    im = ax.imshow(grid_8x8, cmap='binary', interpolation='none')\n",
    "    ax.set_title(f'Grid #{grid_index} como malla 8x8')\n",
    "    \n",
    "    # Eliminar la leyenda (colorbar)\n",
    "    # (No se incluye plt.colorbar())\n",
    "    \n",
    "    # Ajustar ticks para que las líneas pasen por los 0.5\n",
    "    ax.set_xticks(np.arange(-0.5, 8, 1), minor=True)\n",
    "    ax.set_yticks(np.arange(-0.5, 8, 1), minor=True)\n",
    "    \n",
    "    # Ocultar los ticks principales\n",
    "    ax.set_xticks([])\n",
    "    ax.set_yticks([])\n",
    "    \n",
    "    # Agregar líneas de cuadrícula en las posiciones .5\n",
    "    ax.grid(which='minor', color='gray', linestyle='-', linewidth=0.5)\n",
    "    \n",
    "    # Agregar etiquetas para las coordenadas\n",
    "    for i in range(8):\n",
    "        for j in range(8):\n",
    "            color = 'black' if grid_8x8[i, j] == 0 else 'white'\n",
    "            ax.text(j, i, f'{grid_8x8[i, j]:.0f}', ha='center', va='center', color=color)\n",
    "    \n",
    "    plt.show()\n",
    "\n",
    "# Visualizar el primer grid como una malla 8x8\n",
    "if len(df) > 0:\n",
    "    visualize_grid_8x8(2)"
   ]
  },
  {
   "cell_type": "code",
   "execution_count": 15,
   "id": "dd321266",
   "metadata": {},
   "outputs": [
    {
     "data": {
      "image/png": "[encoded data removed]",
      "text/plain": [
       "<Figure size 1200x1000 with 4 Axes>"
      ]
     },
     "metadata": {},
     "output_type": "display_data"
    }
   ],
   "source": [
    "# Visualizar múltiples grids en una figura\n",
    "def visualize_multiple_grids(start_index, num_grids=4):\n",
    "    # Determinar filas y columnas para el subplot\n",
    "    cols = min(2, num_grids)\n",
    "    rows = (num_grids + 1) // 2\n",
    "    \n",
    "    fig, axes = plt.subplots(rows, cols, figsize=(12, 10))\n",
    "    axes = axes.flatten() if num_grids > 1 else [axes]\n",
    "    \n",
    "    for i in range(num_grids):\n",
    "        if start_index + i < len(df):\n",
    "            # Obtener los valores de la fila seleccionada\n",
    "            grid_values = df.iloc[start_index + i].values\n",
    "            \n",
    "            # Ajustar a 64 valores si es necesario\n",
    "            if len(grid_values) < 64:\n",
    "                grid_values = np.pad(grid_values, (0, 64 - len(grid_values)), 'constant')\n",
    "            elif len(grid_values) > 64:\n",
    "                grid_values = grid_values[:64]\n",
    "            \n",
    "            # Reshape a 8x8\n",
    "            grid_8x8 = grid_values.reshape(8, 8)\n",
    "            \n",
    "            # Configurar el subplot\n",
    "            ax = axes[i]\n",
    "            ax.imshow(grid_8x8, cmap='binary', interpolation='none')\n",
    "            ax.set_title(f'Grid #{start_index + i}')\n",
    "            \n",
    "            # Ajustar ticks para que las líneas pasen por los 0.5\n",
    "            ax.set_xticks(np.arange(-0.5, 8, 1), minor=True)\n",
    "            ax.set_yticks(np.arange(-0.5, 8, 1), minor=True)\n",
    "            \n",
    "            # Ocultar los ticks principales\n",
    "            ax.set_xticks([])\n",
    "            ax.set_yticks([])\n",
    "            \n",
    "            # Agregar líneas de cuadrícula en las posiciones .5\n",
    "            ax.grid(which='minor', color='gray', linestyle='-', linewidth=0.5)\n",
    "            \n",
    "            # Añadir los valores en cada celda\n",
    "            for r in range(8):\n",
    "                for c in range(8):\n",
    "                    color = 'black' if grid_8x8[r, c] == 0 else 'white'\n",
    "                    ax.text(c, r, f'{grid_8x8[r, c]:.0f}', ha='center', va='center', color=color)\n",
    "    \n",
    "    # Ocultar ejes vacíos si hay menos grids que espacios\n",
    "    for j in range(i+1, len(axes)):\n",
    "        axes[j].axis('off')\n",
    "    \n",
    "    plt.tight_layout()\n",
    "    plt.suptitle('Visualización de múltiples grids 8x8', fontsize=16)\n",
    "    plt.subplots_adjust(top=0.9)\n",
    "    plt.show()\n",
    "\n",
    "# Visualizar los primeros 4 grids\n",
    "if len(df) >= 4:\n",
    "    visualize_multiple_grids(0, 3)"
   ]
  }
 ],
 "metadata": {
  "kernelspec": {
   "display_name": ".venv",
   "language": "python",
   "name": "python3"
  },
  "language_info": {
   "codemirror_mode": {
    "name": "ipython",
    "version": 3
   },
   "file_extension": ".py",
   "mimetype": "text/x-python",
   "name": "python",
   "nbconvert_exporter": "python",
   "pygments_lexer": "ipython3",
   "version": "3.13.2"
  }
 },
 "nbformat": 4,
 "nbformat_minor": 5
}
